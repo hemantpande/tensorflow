{
  "nbformat": 4,
  "nbformat_minor": 0,
  "metadata": {
    "colab": {
      "name": "Tensorflow notes",
      "provenance": [],
      "authorship_tag": "ABX9TyM7IIaZJHnFv7WTfD+/2mL5",
      "include_colab_link": true
    },
    "kernelspec": {
      "name": "python3",
      "display_name": "Python 3"
    }
  },
  "cells": [
    {
      "cell_type": "markdown",
      "metadata": {
        "id": "view-in-github",
        "colab_type": "text"
      },
      "source": [
        "<a href=\"https://colab.research.google.com/github/hemantpande/tensorflow/blob/master/Tensorflow_notes.ipynb\" target=\"_parent\"><img src=\"https://colab.research.google.com/assets/colab-badge.svg\" alt=\"Open In Colab\"/></a>"
      ]
    },
    {
      "cell_type": "markdown",
      "metadata": {
        "id": "mOVg6zKgMwvh",
        "colab_type": "text"
      },
      "source": [
        "## Tensorflow basics\n",
        "\n",
        "1. TensorFlow, is a framework to define and run computations involving tensors\n",
        "2. A tensor is a generalization of vectors and matrices to potentially higher dimensions.\n",
        "3. When writing a TensorFlow program, the main object you manipulate and pass around is the `tf.Tensor`. A `tf.Tensor` object represents a partially defined computation that will eventually produce a value.\n",
        "4. Tensorflow programs work by building a graph of tensors and then executing them in parts to get desired result.\n",
        "5. `tf.Tensor` has 2 properties - Data type and Shape (number of dimensions and size of each dimention).\n",
        "6. "
      ]
    }
  ]
}